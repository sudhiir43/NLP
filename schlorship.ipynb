{
 "cells": [
  {
   "cell_type": "code",
   "execution_count": 1,
   "metadata": {
    "collapsed": false
   },
   "outputs": [],
   "source": [
    "import pandas as pd\n",
    "train_data=pd.read_csv('C:\\\\Users\\\\sudhi\\\\Downloads\\\\CPEE_Batch26_Scholarship_Exam\\\\data\\\\Train.csv')\n",
    "test_data=pd.read_csv('C:\\\\Users\\\\sudhi\\\\Downloads\\\\CPEE_Batch26_Scholarship_Exam\\\\data\\\\Test.csv')"
   ]
  },
  {
   "cell_type": "markdown",
   "metadata": {},
   "source": [
    "# cleaning the ptitle train"
   ]
  },
  {
   "cell_type": "code",
   "execution_count": 2,
   "metadata": {
    "collapsed": true
   },
   "outputs": [],
   "source": [
    "import re  #importing the regular expressions"
   ]
  },
  {
   "cell_type": "code",
   "execution_count": 3,
   "metadata": {
    "collapsed": false
   },
   "outputs": [],
   "source": [
    "new_title1=[]\n",
    "for title in train_data.ptitle:\n",
    "    title1=title.decode(\"utf8\").encode('ascii','ignore')\n",
    "    title1=re.sub('[^a-zA-Z]', ' ', title1)\n",
    "    title1=title1.lower()\n",
    "    new_title1.append(title1)"
   ]
  },
  {
   "cell_type": "code",
   "execution_count": 4,
   "metadata": {
    "collapsed": false
   },
   "outputs": [],
   "source": [
    "train_data['ntitle']=new_title1"
   ]
  },
  {
   "cell_type": "code",
   "execution_count": 34,
   "metadata": {
    "collapsed": false
   },
   "outputs": [
    {
     "data": {
      "text/html": [
       "<div>\n",
       "<table border=\"1\" class=\"dataframe\">\n",
       "  <thead>\n",
       "    <tr style=\"text-align: right;\">\n",
       "      <th></th>\n",
       "      <th>ptitle</th>\n",
       "      <th>brand_title</th>\n",
       "      <th>target</th>\n",
       "      <th>ntitle</th>\n",
       "    </tr>\n",
       "  </thead>\n",
       "  <tbody>\n",
       "    <tr>\n",
       "      <th>0</th>\n",
       "      <td>LCD Ecran Exposer &amp; Touche TACTILE  Digitizer ...</td>\n",
       "      <td>OTHER</td>\n",
       "      <td>Mobile &amp; Tablets_Tablet and Smartphone Accesso...</td>\n",
       "      <td>lcd ecran exposer   touche tactile  digitizer ...</td>\n",
       "    </tr>\n",
       "    <tr>\n",
       "      <th>1</th>\n",
       "      <td>HP Spectrum @ Azerty</td>\n",
       "      <td>HP</td>\n",
       "      <td>Computing_Computing Bags/Cases</td>\n",
       "      <td>hp spectrum   azerty</td>\n",
       "    </tr>\n",
       "    <tr>\n",
       "      <th>2</th>\n",
       "      <td>DIGITAL BAY - Cover flip S View verde con vist...</td>\n",
       "      <td>OTHER</td>\n",
       "      <td>Mobile &amp; Tablets_Tablet and Smartphone Accesso...</td>\n",
       "      <td>digital bay   cover flip s view verde con vist...</td>\n",
       "    </tr>\n",
       "    <tr>\n",
       "      <th>3</th>\n",
       "      <td>Perche Selfie ? Cable Monopode Telescopique ro...</td>\n",
       "      <td>OTHER</td>\n",
       "      <td>Mobile &amp; Tablets_Tablet and Smartphone Accesso...</td>\n",
       "      <td>perche selfie   cable monopode telescopique ro...</td>\n",
       "    </tr>\n",
       "    <tr>\n",
       "      <th>4</th>\n",
       "      <td>Mignon Ours Coque Cover de Protection portefeu...</td>\n",
       "      <td>OTHER</td>\n",
       "      <td>Mobile &amp; Tablets_Tablet and Smartphone Accesso...</td>\n",
       "      <td>mignon ours coque cover de protection portefeu...</td>\n",
       "    </tr>\n",
       "    <tr>\n",
       "      <th>5</th>\n",
       "      <td>Capa para Sony Xperia Z2 Samrick em Hidro Gel ...</td>\n",
       "      <td>SAMRICK</td>\n",
       "      <td>Mobile &amp; Tablets_Tablet and Smartphone Accesso...</td>\n",
       "      <td>capa para sony xperia z  samrick em hidro gel ...</td>\n",
       "    </tr>\n",
       "    <tr>\n",
       "      <th>6</th>\n",
       "      <td>Coque Samsung Galaxy S5 Mini / Pourpre Design ...</td>\n",
       "      <td>OTHER</td>\n",
       "      <td>Mobile &amp; Tablets_Tablet and Smartphone Accesso...</td>\n",
       "      <td>coque samsung galaxy s  mini   pourpre design ...</td>\n",
       "    </tr>\n",
       "    <tr>\n",
       "      <th>7</th>\n",
       "      <td>Barre de son 2.1 290W RMS, Bluetooth, Soundsha...</td>\n",
       "      <td>SAMSUNG</td>\n",
       "      <td>Audio_Home Cinema/Speakers</td>\n",
       "      <td>barre de son        w rms  bluetooth  soundsha...</td>\n",
       "    </tr>\n",
       "    <tr>\n",
       "      <th>8</th>\n",
       "      <td>SAMSUNG 101347437 - TV LED -</td>\n",
       "      <td>SAMSUNG</td>\n",
       "      <td>Home Entertainment_Televisions</td>\n",
       "      <td>samsung             tv led</td>\n",
       "    </tr>\n",
       "    <tr>\n",
       "      <th>9</th>\n",
       "      <td>Capa SAMSUNG GALAXY TAB4 WHIT EF-BT230BW - Cap...</td>\n",
       "      <td>SAMSUNG</td>\n",
       "      <td>Mobile &amp; Tablets_Tablet and Smartphone Accesso...</td>\n",
       "      <td>capa samsung galaxy tab  whit ef bt   bw   cap...</td>\n",
       "    </tr>\n",
       "  </tbody>\n",
       "</table>\n",
       "</div>"
      ],
      "text/plain": [
       "                                              ptitle brand_title  \\\n",
       "0  LCD Ecran Exposer & Touche TACTILE  Digitizer ...       OTHER   \n",
       "1                               HP Spectrum @ Azerty          HP   \n",
       "2  DIGITAL BAY - Cover flip S View verde con vist...       OTHER   \n",
       "3  Perche Selfie ? Cable Monopode Telescopique ro...       OTHER   \n",
       "4  Mignon Ours Coque Cover de Protection portefeu...       OTHER   \n",
       "5  Capa para Sony Xperia Z2 Samrick em Hidro Gel ...     SAMRICK   \n",
       "6  Coque Samsung Galaxy S5 Mini / Pourpre Design ...       OTHER   \n",
       "7  Barre de son 2.1 290W RMS, Bluetooth, Soundsha...     SAMSUNG   \n",
       "8                      SAMSUNG 101347437 - TV LED -      SAMSUNG   \n",
       "9  Capa SAMSUNG GALAXY TAB4 WHIT EF-BT230BW - Cap...     SAMSUNG   \n",
       "\n",
       "                                              target  \\\n",
       "0  Mobile & Tablets_Tablet and Smartphone Accesso...   \n",
       "1                     Computing_Computing Bags/Cases   \n",
       "2  Mobile & Tablets_Tablet and Smartphone Accesso...   \n",
       "3  Mobile & Tablets_Tablet and Smartphone Accesso...   \n",
       "4  Mobile & Tablets_Tablet and Smartphone Accesso...   \n",
       "5  Mobile & Tablets_Tablet and Smartphone Accesso...   \n",
       "6  Mobile & Tablets_Tablet and Smartphone Accesso...   \n",
       "7                         Audio_Home Cinema/Speakers   \n",
       "8                     Home Entertainment_Televisions   \n",
       "9  Mobile & Tablets_Tablet and Smartphone Accesso...   \n",
       "\n",
       "                                              ntitle  \n",
       "0  lcd ecran exposer   touche tactile  digitizer ...  \n",
       "1                               hp spectrum   azerty  \n",
       "2  digital bay   cover flip s view verde con vist...  \n",
       "3  perche selfie   cable monopode telescopique ro...  \n",
       "4  mignon ours coque cover de protection portefeu...  \n",
       "5  capa para sony xperia z  samrick em hidro gel ...  \n",
       "6  coque samsung galaxy s  mini   pourpre design ...  \n",
       "7  barre de son        w rms  bluetooth  soundsha...  \n",
       "8                      samsung             tv led     \n",
       "9  capa samsung galaxy tab  whit ef bt   bw   cap...  "
      ]
     },
     "execution_count": 34,
     "metadata": {},
     "output_type": "execute_result"
    }
   ],
   "source": [
    "train_data.head(10)"
   ]
  },
  {
   "cell_type": "markdown",
   "metadata": {},
   "source": [
    "# cleaning the test data ptitle test"
   ]
  },
  {
   "cell_type": "code",
   "execution_count": 6,
   "metadata": {
    "collapsed": false
   },
   "outputs": [],
   "source": [
    "new_title2=[]\n",
    "for title in test_data.ptitle:\n",
    "    title1=title.decode(\"utf8\").encode('ascii','ignore')\n",
    "    title1=re.sub('[^a-zA-Z]', ' ', title1)\n",
    "    title1=title1.lower()\n",
    "    new_title2.append(title1)"
   ]
  },
  {
   "cell_type": "code",
   "execution_count": 7,
   "metadata": {
    "collapsed": true
   },
   "outputs": [],
   "source": [
    "test_data['ntitle']=new_title2"
   ]
  },
  {
   "cell_type": "code",
   "execution_count": 8,
   "metadata": {
    "collapsed": false
   },
   "outputs": [
    {
     "data": {
      "text/html": [
       "<div>\n",
       "<table border=\"1\" class=\"dataframe\">\n",
       "  <thead>\n",
       "    <tr style=\"text-align: right;\">\n",
       "      <th></th>\n",
       "      <th>ptitle</th>\n",
       "      <th>brand_title</th>\n",
       "      <th>target</th>\n",
       "      <th>ntitle</th>\n",
       "    </tr>\n",
       "  </thead>\n",
       "  <tbody>\n",
       "    <tr>\n",
       "      <th>0</th>\n",
       "      <td>HP 101425735 - Schede Video - ePrice</td>\n",
       "      <td>HP</td>\n",
       "      <td>Computing_Cards and Kits</td>\n",
       "      <td>hp             schede video   eprice</td>\n",
       "    </tr>\n",
       "  </tbody>\n",
       "</table>\n",
       "</div>"
      ],
      "text/plain": [
       "                                 ptitle brand_title                    target  \\\n",
       "0  HP 101425735 - Schede Video - ePrice          HP  Computing_Cards and Kits   \n",
       "\n",
       "                                 ntitle  \n",
       "0  hp             schede video   eprice  "
      ]
     },
     "execution_count": 8,
     "metadata": {},
     "output_type": "execute_result"
    }
   ],
   "source": [
    "test_data.head(1)"
   ]
  },
  {
   "cell_type": "code",
   "execution_count": 9,
   "metadata": {
    "collapsed": true
   },
   "outputs": [],
   "source": [
    "X_train=train_data['ntitle']"
   ]
  },
  {
   "cell_type": "code",
   "execution_count": 10,
   "metadata": {
    "collapsed": true
   },
   "outputs": [],
   "source": [
    "X_test=test_data['ntitle']"
   ]
  },
  {
   "cell_type": "markdown",
   "metadata": {
    "collapsed": true
   },
   "source": [
    "# target variable"
   ]
  },
  {
   "cell_type": "code",
   "execution_count": 11,
   "metadata": {
    "collapsed": true
   },
   "outputs": [],
   "source": [
    "y_train=train_data['target']\n",
    "y_test=test_data['target']"
   ]
  },
  {
   "cell_type": "code",
   "execution_count": 12,
   "metadata": {
    "collapsed": false
   },
   "outputs": [
    {
     "data": {
      "text/html": [
       "<div>\n",
       "<table border=\"1\" class=\"dataframe\">\n",
       "  <thead>\n",
       "    <tr style=\"text-align: right;\">\n",
       "      <th></th>\n",
       "      <th>ptitle</th>\n",
       "      <th>brand_title</th>\n",
       "      <th>target</th>\n",
       "      <th>ntitle</th>\n",
       "    </tr>\n",
       "  </thead>\n",
       "  <tbody>\n",
       "    <tr>\n",
       "      <th>0</th>\n",
       "      <td>LCD Ecran Exposer &amp; Touche TACTILE  Digitizer ...</td>\n",
       "      <td>OTHER</td>\n",
       "      <td>Mobile &amp; Tablets_Tablet and Smartphone Accesso...</td>\n",
       "      <td>lcd ecran exposer   touche tactile  digitizer ...</td>\n",
       "    </tr>\n",
       "  </tbody>\n",
       "</table>\n",
       "</div>"
      ],
      "text/plain": [
       "                                              ptitle brand_title  \\\n",
       "0  LCD Ecran Exposer & Touche TACTILE  Digitizer ...       OTHER   \n",
       "\n",
       "                                              target  \\\n",
       "0  Mobile & Tablets_Tablet and Smartphone Accesso...   \n",
       "\n",
       "                                              ntitle  \n",
       "0  lcd ecran exposer   touche tactile  digitizer ...  "
      ]
     },
     "execution_count": 12,
     "metadata": {},
     "output_type": "execute_result"
    }
   ],
   "source": [
    "train_data.head(1)"
   ]
  },
  {
   "cell_type": "markdown",
   "metadata": {},
   "source": [
    "# feature_extraction"
   ]
  },
  {
   "cell_type": "code",
   "execution_count": 13,
   "metadata": {
    "collapsed": false
   },
   "outputs": [],
   "source": [
    "from sklearn.feature_extraction.text import TfidfVectorizer\n",
    "vect=TfidfVectorizer()"
   ]
  },
  {
   "cell_type": "code",
   "execution_count": 14,
   "metadata": {
    "collapsed": false
   },
   "outputs": [],
   "source": [
    "X_tfidf=vect.fit_transform(X_train)"
   ]
  },
  {
   "cell_type": "code",
   "execution_count": 15,
   "metadata": {
    "collapsed": true
   },
   "outputs": [],
   "source": [
    "X_test_tfidf=vect.transform(X_test)"
   ]
  },
  {
   "cell_type": "markdown",
   "metadata": {},
   "source": [
    "# import MultinomialNB from scikitlearn"
   ]
  },
  {
   "cell_type": "code",
   "execution_count": 16,
   "metadata": {
    "collapsed": true
   },
   "outputs": [],
   "source": [
    "from sklearn.naive_bayes import MultinomialNB"
   ]
  },
  {
   "cell_type": "code",
   "execution_count": 17,
   "metadata": {
    "collapsed": true
   },
   "outputs": [],
   "source": [
    "mnb = MultinomialNB()"
   ]
  },
  {
   "cell_type": "code",
   "execution_count": 18,
   "metadata": {
    "collapsed": true
   },
   "outputs": [],
   "source": [
    "from sklearn import metrics"
   ]
  },
  {
   "cell_type": "code",
   "execution_count": 19,
   "metadata": {
    "collapsed": false
   },
   "outputs": [
    {
     "data": {
      "text/plain": [
       "0.69332483670543255"
      ]
     },
     "execution_count": 19,
     "metadata": {},
     "output_type": "execute_result"
    }
   ],
   "source": [
    "model_nb=mnb.fit(X_tfidf,y_train)\n",
    "mnbpred2=model_nb.predict(X_test_tfidf)\n",
    "metrics.accuracy_score(y_test,mnbpred2)"
   ]
  },
  {
   "cell_type": "markdown",
   "metadata": {},
   "source": [
    "# logistic regression"
   ]
  },
  {
   "cell_type": "code",
   "execution_count": 20,
   "metadata": {
    "collapsed": true
   },
   "outputs": [],
   "source": [
    "from sklearn.linear_model import LogisticRegression"
   ]
  },
  {
   "cell_type": "code",
   "execution_count": 21,
   "metadata": {
    "collapsed": true
   },
   "outputs": [],
   "source": [
    "lr=LogisticRegression()"
   ]
  },
  {
   "cell_type": "code",
   "execution_count": 22,
   "metadata": {
    "collapsed": false
   },
   "outputs": [
    {
     "data": {
      "text/plain": [
       "0.87104597029720499"
      ]
     },
     "execution_count": 22,
     "metadata": {},
     "output_type": "execute_result"
    }
   ],
   "source": [
    "model_lr=lr.fit(X_tfidf,y_train)\n",
    "lrpred=model_lr.predict(X_test_tfidf)\n",
    "metrics.accuracy_score(y_test,lrpred)"
   ]
  },
  {
   "cell_type": "markdown",
   "metadata": {},
   "source": [
    "# param tuning for logistic regression"
   ]
  },
  {
   "cell_type": "markdown",
   "metadata": {},
   "source": [
    "set diff C values 0.1,1,100,1000"
   ]
  },
  {
   "cell_type": "code",
   "execution_count": 23,
   "metadata": {
    "collapsed": true
   },
   "outputs": [],
   "source": [
    "from sklearn.model_selection import GridSearchCV"
   ]
  },
  {
   "cell_type": "code",
   "execution_count": 24,
   "metadata": {
    "collapsed": false
   },
   "outputs": [
    {
     "name": "stderr",
     "output_type": "stream",
     "text": [
      "C:\\Users\\sudhi\\Anaconda2\\lib\\site-packages\\sklearn\\model_selection\\_split.py:581: Warning: The least populated class in y has only 2 members, which is too few. The minimum number of groups for any class cannot be less than n_splits=3.\n",
      "  % (min_groups, self.n_splits)), Warning)\n"
     ]
    },
    {
     "data": {
      "text/plain": [
       "GridSearchCV(cv=None, error_score='raise',\n",
       "       estimator=LogisticRegression(C=1.0, class_weight=None, dual=False, fit_intercept=True,\n",
       "          intercept_scaling=1, max_iter=100, multi_class='ovr', n_jobs=1,\n",
       "          penalty='l2', random_state=None, solver='liblinear', tol=0.0001,\n",
       "          verbose=0, warm_start=False),\n",
       "       fit_params={}, iid=True, n_jobs=1,\n",
       "       param_grid={'C': [20, 25, 30, 35, 40]}, pre_dispatch='2*n_jobs',\n",
       "       refit=True, return_train_score=True, scoring='accuracy', verbose=0)"
      ]
     },
     "execution_count": 24,
     "metadata": {},
     "output_type": "execute_result"
    }
   ],
   "source": [
    "tuned_parameters = {'C': [ 20,25,30,35,40]}\n",
    "clf = GridSearchCV(LogisticRegression(solver='liblinear'), tuned_parameters,scoring=\"accuracy\")\n",
    "clf.fit(X_tfidf, y_train)"
   ]
  },
  {
   "cell_type": "code",
   "execution_count": 25,
   "metadata": {
    "collapsed": false
   },
   "outputs": [
    {
     "data": {
      "text/plain": [
       "{'C': 25}"
      ]
     },
     "execution_count": 25,
     "metadata": {},
     "output_type": "execute_result"
    }
   ],
   "source": [
    "clf.best_params_"
   ]
  },
  {
   "cell_type": "code",
   "execution_count": 26,
   "metadata": {
    "collapsed": false
   },
   "outputs": [
    {
     "data": {
      "text/plain": [
       "0.89694298408652395"
      ]
     },
     "execution_count": 26,
     "metadata": {},
     "output_type": "execute_result"
    }
   ],
   "source": [
    "clf.best_score_"
   ]
  },
  {
   "cell_type": "markdown",
   "metadata": {},
   "source": [
    "# knn "
   ]
  },
  {
   "cell_type": "markdown",
   "metadata": {
    "collapsed": true
   },
   "source": [
    "from sklearn.neighbors import KNeighborsClassifier as knn\n",
    "KNN=knn()"
   ]
  },
  {
   "cell_type": "markdown",
   "metadata": {
    "collapsed": false
   },
   "source": [
    "model1=KNN.fit(X_tfidf,y_train)"
   ]
  },
  {
   "cell_type": "markdown",
   "metadata": {
    "collapsed": true
   },
   "source": [
    "pred="
   ]
  },
  {
   "cell_type": "markdown",
   "metadata": {},
   "source": [
    "# from sklearn.svm import SVC"
   ]
  },
  {
   "cell_type": "markdown",
   "metadata": {},
   "source": [
    "#svc=SVC()"
   ]
  },
  {
   "cell_type": "markdown",
   "metadata": {},
   "source": [
    "#from sklearn"
   ]
  },
  {
   "cell_type": "markdown",
   "metadata": {},
   "source": [
    "#model_svc=svc.fit(X_tfidf,y_train)\n",
    "#svcpred=model.predict(X_test_tfidf)\n",
    "#metrics.accuracy_score(y_test,svcpred)"
   ]
  },
  {
   "cell_type": "markdown",
   "metadata": {},
   "source": [
    "SVM is not giving any output and its taking too much time"
   ]
  },
  {
   "cell_type": "markdown",
   "metadata": {},
   "source": [
    "# reading the evaldata into python"
   ]
  },
  {
   "cell_type": "code",
   "execution_count": 27,
   "metadata": {
    "collapsed": false
   },
   "outputs": [],
   "source": [
    "evaldata=pd.read_csv('C:\\\\Users\\\\sudhi\\\\Downloads\\\\CPEE_Batch26_Scholarship_Exam\\\\data\\\\evaldata.csv')"
   ]
  },
  {
   "cell_type": "markdown",
   "metadata": {},
   "source": [
    "#cleaning the eval data"
   ]
  },
  {
   "cell_type": "code",
   "execution_count": 28,
   "metadata": {
    "collapsed": false
   },
   "outputs": [],
   "source": [
    "new_title_123=[]\n",
    "for title in evaldata.ptitle:\n",
    "    title1=title.decode(\"utf8\").encode('ascii','ignore')\n",
    "    title1=re.sub('[^a-zA-Z]', ' ', title1)\n",
    "    new_title_123.append(title1.lower())"
   ]
  },
  {
   "cell_type": "markdown",
   "metadata": {},
   "source": [
    "# trnasforming eval data to predict "
   ]
  },
  {
   "cell_type": "code",
   "execution_count": 29,
   "metadata": {
    "collapsed": false
   },
   "outputs": [],
   "source": [
    "final_test_tfidf=vect.transform(new_title_123)"
   ]
  },
  {
   "cell_type": "markdown",
   "metadata": {},
   "source": [
    "# predicting on eval data"
   ]
  },
  {
   "cell_type": "code",
   "execution_count": 30,
   "metadata": {
    "collapsed": false,
    "scrolled": true
   },
   "outputs": [],
   "source": [
    "finaltarget=clf.predict(final_test_tfidf)"
   ]
  },
  {
   "cell_type": "code",
   "execution_count": 31,
   "metadata": {
    "collapsed": false
   },
   "outputs": [],
   "source": [
    "evaldata['target']=finaltarget"
   ]
  },
  {
   "cell_type": "code",
   "execution_count": 32,
   "metadata": {
    "collapsed": false
   },
   "outputs": [
    {
     "data": {
      "text/html": [
       "<div>\n",
       "<table border=\"1\" class=\"dataframe\">\n",
       "  <thead>\n",
       "    <tr style=\"text-align: right;\">\n",
       "      <th></th>\n",
       "      <th>ptitle</th>\n",
       "      <th>target</th>\n",
       "    </tr>\n",
       "  </thead>\n",
       "  <tbody>\n",
       "    <tr>\n",
       "      <th>0</th>\n",
       "      <td>AZURI BOOKLET PINK SAMSUNG GALAXY S6 (GCAZBOOK...</td>\n",
       "      <td>Mobile &amp; Tablets_Tablet and Smartphone Accesso...</td>\n",
       "    </tr>\n",
       "  </tbody>\n",
       "</table>\n",
       "</div>"
      ],
      "text/plain": [
       "                                              ptitle  \\\n",
       "0  AZURI BOOKLET PINK SAMSUNG GALAXY S6 (GCAZBOOK...   \n",
       "\n",
       "                                              target  \n",
       "0  Mobile & Tablets_Tablet and Smartphone Accesso...  "
      ]
     },
     "execution_count": 32,
     "metadata": {},
     "output_type": "execute_result"
    }
   ],
   "source": [
    "evaldata.head(1)"
   ]
  },
  {
   "cell_type": "markdown",
   "metadata": {},
   "source": [
    "# exporting the results to csv file"
   ]
  },
  {
   "cell_type": "code",
   "execution_count": 33,
   "metadata": {
    "collapsed": false
   },
   "outputs": [],
   "source": [
    "evaldata.to_csv('PredictionS.csv')"
   ]
  },
  {
   "cell_type": "code",
   "execution_count": null,
   "metadata": {
    "collapsed": true
   },
   "outputs": [],
   "source": []
  }
 ],
 "metadata": {
  "anaconda-cloud": {},
  "kernelspec": {
   "display_name": "Python [default]",
   "language": "python",
   "name": "python2"
  },
  "language_info": {
   "codemirror_mode": {
    "name": "ipython",
    "version": 2
   },
   "file_extension": ".py",
   "mimetype": "text/x-python",
   "name": "python",
   "nbconvert_exporter": "python",
   "pygments_lexer": "ipython2",
   "version": "2.7.12"
  }
 },
 "nbformat": 4,
 "nbformat_minor": 1
}
